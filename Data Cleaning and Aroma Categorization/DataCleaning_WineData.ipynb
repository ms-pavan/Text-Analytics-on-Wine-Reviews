{
 "cells": [
  {
   "cell_type": "code",
   "execution_count": 58,
   "metadata": {},
   "outputs": [
    {
     "name": "stdout",
     "output_type": "stream",
     "text": [
      "<class 'pandas.core.frame.DataFrame'>\n",
      "RangeIndex: 129971 entries, 0 to 129970\n",
      "Data columns (total 14 columns):\n",
      "Unnamed: 0               129971 non-null int64\n",
      "country                  129908 non-null object\n",
      "description              129971 non-null object\n",
      "designation              92506 non-null object\n",
      "points                   129971 non-null int64\n",
      "price                    120975 non-null float64\n",
      "province                 129908 non-null object\n",
      "region_1                 108724 non-null object\n",
      "region_2                 50511 non-null object\n",
      "taster_name              103727 non-null object\n",
      "taster_twitter_handle    98758 non-null object\n",
      "title                    129971 non-null object\n",
      "variety                  129970 non-null object\n",
      "winery                   129971 non-null object\n",
      "dtypes: float64(1), int64(2), object(11)\n",
      "memory usage: 13.9+ MB\n"
     ]
    }
   ],
   "source": [
    "import numpy as np\n",
    "import pandas as pd\n",
    "import nltk\n",
    "import re\n",
    "\n",
    "wine = pd.read_csv(\"winemag-data-130k-v2.csv\")\n",
    "wine.info()"
   ]
  },
  {
   "cell_type": "code",
   "execution_count": 59,
   "metadata": {},
   "outputs": [
    {
     "data": {
      "text/html": [
       "<div>\n",
       "<style>\n",
       "    .dataframe thead tr:only-child th {\n",
       "        text-align: right;\n",
       "    }\n",
       "\n",
       "    .dataframe thead th {\n",
       "        text-align: left;\n",
       "    }\n",
       "\n",
       "    .dataframe tbody tr th {\n",
       "        vertical-align: top;\n",
       "    }\n",
       "</style>\n",
       "<table border=\"1\" class=\"dataframe\">\n",
       "  <thead>\n",
       "    <tr style=\"text-align: right;\">\n",
       "      <th></th>\n",
       "      <th>Unnamed: 0</th>\n",
       "      <th>country</th>\n",
       "      <th>description</th>\n",
       "      <th>designation</th>\n",
       "      <th>points</th>\n",
       "      <th>price</th>\n",
       "      <th>province</th>\n",
       "      <th>region_1</th>\n",
       "      <th>region_2</th>\n",
       "      <th>taster_name</th>\n",
       "      <th>taster_twitter_handle</th>\n",
       "      <th>title</th>\n",
       "      <th>variety</th>\n",
       "      <th>winery</th>\n",
       "    </tr>\n",
       "  </thead>\n",
       "  <tbody>\n",
       "    <tr>\n",
       "      <th>0</th>\n",
       "      <td>0</td>\n",
       "      <td>Italy</td>\n",
       "      <td>Aromas include tropical fruit, broom, brimston...</td>\n",
       "      <td>Vulkà Bianco</td>\n",
       "      <td>87</td>\n",
       "      <td>NaN</td>\n",
       "      <td>Sicily &amp; Sardinia</td>\n",
       "      <td>Etna</td>\n",
       "      <td>NaN</td>\n",
       "      <td>Kerin O’Keefe</td>\n",
       "      <td>@kerinokeefe</td>\n",
       "      <td>Nicosia 2013 Vulkà Bianco  (Etna)</td>\n",
       "      <td>White Blend</td>\n",
       "      <td>Nicosia</td>\n",
       "    </tr>\n",
       "    <tr>\n",
       "      <th>1</th>\n",
       "      <td>1</td>\n",
       "      <td>Portugal</td>\n",
       "      <td>This is ripe and fruity, a wine that is smooth...</td>\n",
       "      <td>Avidagos</td>\n",
       "      <td>87</td>\n",
       "      <td>15.0</td>\n",
       "      <td>Douro</td>\n",
       "      <td>NaN</td>\n",
       "      <td>NaN</td>\n",
       "      <td>Roger Voss</td>\n",
       "      <td>@vossroger</td>\n",
       "      <td>Quinta dos Avidagos 2011 Avidagos Red (Douro)</td>\n",
       "      <td>Portuguese Red</td>\n",
       "      <td>Quinta dos Avidagos</td>\n",
       "    </tr>\n",
       "  </tbody>\n",
       "</table>\n",
       "</div>"
      ],
      "text/plain": [
       "   Unnamed: 0   country                                        description  \\\n",
       "0           0     Italy  Aromas include tropical fruit, broom, brimston...   \n",
       "1           1  Portugal  This is ripe and fruity, a wine that is smooth...   \n",
       "\n",
       "    designation  points  price           province region_1 region_2  \\\n",
       "0  Vulkà Bianco      87    NaN  Sicily & Sardinia     Etna      NaN   \n",
       "1      Avidagos      87   15.0              Douro      NaN      NaN   \n",
       "\n",
       "     taster_name taster_twitter_handle  \\\n",
       "0  Kerin O’Keefe          @kerinokeefe   \n",
       "1     Roger Voss            @vossroger   \n",
       "\n",
       "                                           title         variety  \\\n",
       "0              Nicosia 2013 Vulkà Bianco  (Etna)     White Blend   \n",
       "1  Quinta dos Avidagos 2011 Avidagos Red (Douro)  Portuguese Red   \n",
       "\n",
       "                winery  \n",
       "0              Nicosia  \n",
       "1  Quinta dos Avidagos  "
      ]
     },
     "execution_count": 59,
     "metadata": {},
     "output_type": "execute_result"
    }
   ],
   "source": [
    "wine.head(2)"
   ]
  },
  {
   "cell_type": "code",
   "execution_count": 60,
   "metadata": {},
   "outputs": [
    {
     "data": {
      "text/html": [
       "<div>\n",
       "<style>\n",
       "    .dataframe thead tr:only-child th {\n",
       "        text-align: right;\n",
       "    }\n",
       "\n",
       "    .dataframe thead th {\n",
       "        text-align: left;\n",
       "    }\n",
       "\n",
       "    .dataframe tbody tr th {\n",
       "        vertical-align: top;\n",
       "    }\n",
       "</style>\n",
       "<table border=\"1\" class=\"dataframe\">\n",
       "  <thead>\n",
       "    <tr style=\"text-align: right;\">\n",
       "      <th></th>\n",
       "      <th>country</th>\n",
       "      <th>description</th>\n",
       "      <th>designation</th>\n",
       "      <th>points</th>\n",
       "      <th>price</th>\n",
       "      <th>province</th>\n",
       "      <th>region_1</th>\n",
       "      <th>region_2</th>\n",
       "      <th>taster_name</th>\n",
       "      <th>taster_twitter_handle</th>\n",
       "      <th>title</th>\n",
       "      <th>variety</th>\n",
       "      <th>winery</th>\n",
       "    </tr>\n",
       "  </thead>\n",
       "  <tbody>\n",
       "    <tr>\n",
       "      <th>0</th>\n",
       "      <td>Italy</td>\n",
       "      <td>Aromas include tropical fruit, broom, brimston...</td>\n",
       "      <td>Vulkà Bianco</td>\n",
       "      <td>87</td>\n",
       "      <td>NaN</td>\n",
       "      <td>Sicily &amp; Sardinia</td>\n",
       "      <td>Etna</td>\n",
       "      <td>NaN</td>\n",
       "      <td>Kerin O’Keefe</td>\n",
       "      <td>@kerinokeefe</td>\n",
       "      <td>Nicosia 2013 Vulkà Bianco  (Etna)</td>\n",
       "      <td>White Blend</td>\n",
       "      <td>Nicosia</td>\n",
       "    </tr>\n",
       "  </tbody>\n",
       "</table>\n",
       "</div>"
      ],
      "text/plain": [
       "  country                                        description   designation  \\\n",
       "0   Italy  Aromas include tropical fruit, broom, brimston...  Vulkà Bianco   \n",
       "\n",
       "   points  price           province region_1 region_2    taster_name  \\\n",
       "0      87    NaN  Sicily & Sardinia     Etna      NaN  Kerin O’Keefe   \n",
       "\n",
       "  taster_twitter_handle                              title      variety  \\\n",
       "0          @kerinokeefe  Nicosia 2013 Vulkà Bianco  (Etna)  White Blend   \n",
       "\n",
       "    winery  \n",
       "0  Nicosia  "
      ]
     },
     "execution_count": 60,
     "metadata": {},
     "output_type": "execute_result"
    }
   ],
   "source": [
    "wine = wine.drop('Unnamed: 0',1)\n",
    "wine.head(1)"
   ]
  },
  {
   "cell_type": "code",
   "execution_count": 61,
   "metadata": {},
   "outputs": [
    {
     "name": "stdout",
     "output_type": "stream",
     "text": [
      "129971 number of records includig duplicates\n"
     ]
    }
   ],
   "source": [
    "orig_len = len(wine)\n",
    "print(orig_len, \"number of records includig duplicates\")"
   ]
  },
  {
   "cell_type": "code",
   "execution_count": 62,
   "metadata": {},
   "outputs": [
    {
     "name": "stdout",
     "output_type": "stream",
     "text": [
      "9983 Duplicate rows removed.\n"
     ]
    }
   ],
   "source": [
    "wine = wine.drop_duplicates()\n",
    "print (orig_len - len(wine), \"Duplicate rows removed.\")"
   ]
  },
  {
   "cell_type": "code",
   "execution_count": 63,
   "metadata": {
    "collapsed": true
   },
   "outputs": [],
   "source": [
    "#Convert all the characters in description to lower case for text processing\n",
    "wine['description'] = wine['description'].str.lower()"
   ]
  },
  {
   "cell_type": "code",
   "execution_count": 64,
   "metadata": {
    "collapsed": true
   },
   "outputs": [],
   "source": [
    "wine['description'] = wine['description'].apply(lambda x: re.sub('[^a-z]', ' ', x))"
   ]
  },
  {
   "cell_type": "code",
   "execution_count": 65,
   "metadata": {
    "collapsed": true
   },
   "outputs": [],
   "source": [
    "wine['description'] = wine['description'].apply(lambda x: \" \".join(re.findall('[a-z]*',x)))"
   ]
  },
  {
   "cell_type": "code",
   "execution_count": 66,
   "metadata": {},
   "outputs": [
    {
     "data": {
      "text/plain": [
       "0         aromas  include  tropical  fruit   broom   bri...\n",
       "1         this  is  ripe  and  fruity   a  wine  that  i...\n",
       "2         tart  and  snappy   the  flavors  of  lime  fl...\n",
       "3         pineapple  rind   lemon  pith  and  orange  bl...\n",
       "4         much  like  the  regular  bottling  from      ...\n",
       "5         blackberry  and  raspberry  aromas  show  a  t...\n",
       "6         here  s  a  bright   informal  red  that  open...\n",
       "7         this  dry  and  restrained  wine  offers  spic...\n",
       "8         savory  dried  thyme  notes  accent  sunnier  ...\n",
       "9         this  has  great  depth  of  flavor  with  its...\n",
       "10        soft   supple  plum  envelopes  an  oaky  stru...\n",
       "11        this  is  a  dry  wine   very  spicy   with  a...\n",
       "12        slightly  reduced   this  wine  offers  a  cha...\n",
       "13        this  is  dominated  by  oak  and  oak  driven...\n",
       "14        building  on      years  and  six  generations...\n",
       "15        zesty  orange  peels  and  apple  notes  aboun...\n",
       "16        baked  plum   molasses   balsamic  vinegar  an...\n",
       "17        raw  black  cherry  aromas  are  direct  and  ...\n",
       "18        desiccated  blackberry   leather   charred  wo...\n",
       "19        red  fruit  aromas  pervade  on  the  nose   w...\n",
       "20        ripe  aromas  of  dark  berries  mingle  with ...\n",
       "21        a  sleek  mix  of  tart  berry   stem  and  he...\n",
       "22        delicate  aromas  recall  white  flower  and  ...\n",
       "23        this  wine  from  the  geneseo  district  offe...\n",
       "24        aromas  of  prune   blackcurrant   toast  and ...\n",
       "25        oak  and  earth  intermingle  around  robust  ...\n",
       "26        pretty  aromas  of  yellow  flower  and  stone...\n",
       "27        aromas  recall  ripe  dark  berry   toast  and...\n",
       "28        aromas  suggest  mature  berry   scorched  ear...\n",
       "29        clarksburg  is  becoming  a  haven  for  cheni...\n",
       "                                ...                        \n",
       "129941    a  chardonnay  with  an  unusual  companion   ...\n",
       "129942    this  is  classic  in  herbaceous  aromas  and...\n",
       "129943    a  blend  of  nero  d  avola  and  syrah   thi...\n",
       "129944    deep  garnet  in  the  glass   this  has  a  n...\n",
       "129945    hailing  from  one  of  the  more  popular  vi...\n",
       "129946    plump   clingy  peach  and  honey  notes  are ...\n",
       "129947    a  blend  of      cabernet  sauvignon       me...\n",
       "129948    raspberry  and  cassis  aromas  are  fresh  an...\n",
       "129949    there  s  no  bones  about  the  use  of  oak ...\n",
       "129950    this  opens  with  herbaceous  dollops  of  th...\n",
       "129951    hugely  spicy  this  rich  wine  is  described...\n",
       "129952    this  zinfandel  from  the  eastern  section  ...\n",
       "129953    roughly  two  thirds  cabernet  and  one  thir...\n",
       "129954    one  of  the  more  characterful  pinot  gris ...\n",
       "129955    like  dog  point  s       chardonnay   this  w...\n",
       "129956    the  blend  is      merlot       cabernet  sau...\n",
       "129957    lightly  baked  berry  aromas  vie  for  atten...\n",
       "129958    this  blend  of  cabernet  sauvignon  merlot  ...\n",
       "129959    the  granite  soil  of  the  brand  grand  cru...\n",
       "129960    fresh  and  fruity   this  is  full  of  red  ...\n",
       "129961    intense  aromas  of  wild  cherry   baking  sp...\n",
       "129962    blackberry   cassis   grilled  herb  and  toas...\n",
       "129963    a  bouquet  of  black  cherry   tart  cranberr...\n",
       "129964    initially  quite  muted   this  wine  slowly  ...\n",
       "129965    while  it  s  rich   this  beautiful  dry  win...\n",
       "129966    notes  of  honeysuckle  and  cantaloupe  sweet...\n",
       "129967    citation  is  given  as  much  as  a  decade  ...\n",
       "129968    well  drained  gravel  soil  gives  this  wine...\n",
       "129969    a  dry  style  of  pinot  gris   this  is  cri...\n",
       "129970    big   rich  and  off  dry   this  is  powered ...\n",
       "Name: description, Length: 119988, dtype: object"
      ]
     },
     "execution_count": 66,
     "metadata": {},
     "output_type": "execute_result"
    }
   ],
   "source": [
    "wine['description']"
   ]
  },
  {
   "cell_type": "code",
   "execution_count": 67,
   "metadata": {
    "collapsed": true
   },
   "outputs": [],
   "source": [
    "wine.to_csv('wine-processed.csv', index=False)"
   ]
  }
 ],
 "metadata": {
  "kernelspec": {
   "display_name": "Python 3",
   "language": "python",
   "name": "python3"
  },
  "language_info": {
   "codemirror_mode": {
    "name": "ipython",
    "version": 3
   },
   "file_extension": ".py",
   "mimetype": "text/x-python",
   "name": "python",
   "nbconvert_exporter": "python",
   "pygments_lexer": "ipython3",
   "version": "3.6.1"
  }
 },
 "nbformat": 4,
 "nbformat_minor": 2
}
